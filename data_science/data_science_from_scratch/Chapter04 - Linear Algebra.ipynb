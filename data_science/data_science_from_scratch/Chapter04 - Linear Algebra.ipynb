{
 "cells": [
  {
   "cell_type": "markdown",
   "metadata": {},
   "source": [
    "## Chapter 4: Linear Algebra\n",
    "\n",
    "For data science, you need to understand _vector spaces_. \n",
    "\n",
    "### Vectors\n",
    "\n",
    "_Vectors_ can be added together to make new vectors, or multiplied by _scalars_ to form new vectors. \n",
    "\n",
    "Each category of data (e.g. height, weight, age) about something is a _dimension_; if you're looking at height, weight, age of people, you have a _three-dimensional vector_. A class with four exams would have student grade data as a four-dementional vector.\n",
    "\n",
    "**A vector is a list [array] of numbers**"
   ]
  },
  {
   "cell_type": "code",
   "execution_count": 2,
   "metadata": {},
   "outputs": [],
   "source": [
    "height_weight_age = [70,   # inches\n",
    "                     170,  # pounds\n",
    "                     40    # years\n",
    "                    ]"
   ]
  },
  {
   "cell_type": "markdown",
   "metadata": {},
   "source": [
    "But a list isn't a vector, so we need to build or use a tool to make our vectors. An easy way to do this is the `zip` function:"
   ]
  },
  {
   "cell_type": "code",
   "execution_count": 4,
   "metadata": {
    "collapsed": true
   },
   "outputs": [],
   "source": [
    "def vector_add(first, second):\n",
    "    \"\"\"adds corresponding elements\"\"\"\n",
    "    return [first_i + second_i for first_i, second_i in zip(first, second)]\n",
    "\n",
    "\n",
    "def vector_subtract(first, second):\n",
    "    \"\"\"subtracts corresponding elements\"\"\"\n",
    "    return [first_i - second_i for first_i, second_i in zip(first, second)]"
   ]
  },
  {
   "cell_type": "markdown",
   "metadata": {},
   "source": [
    "Sometimes we also was a **_compotentwise sum_** of a list of vectors. This is where you create a new vector whose first element is the sum of all the first elements, the second the sum of all second elements, etc."
   ]
  },
  {
   "cell_type": "code",
   "execution_count": 10,
   "metadata": {
    "collapsed": true
   },
   "outputs": [],
   "source": [
    "def vector_sum(vectors):\n",
    "    \"\"\"sum all corresponding elements\"\"\"\n",
    "    \n",
    "    result = vectors[0]\n",
    "    \n",
    "    for vector in vectors[1:]:\n",
    "        result = vector_add(result, vector)\n",
    "    return result"
   ]
  },
  {
   "cell_type": "markdown",
   "metadata": {},
   "source": [
    "We also want to multiply a vector:"
   ]
  },
  {
   "cell_type": "code",
   "execution_count": 5,
   "metadata": {
    "collapsed": true
   },
   "outputs": [],
   "source": [
    "def vector_multiply(number, vector):\n",
    "    return [number * vector_i for vector_i in vector]\n",
    "\n",
    "\n",
    "def vector_mean(vectors):\n",
    "    \"\"\"compute the vector whose ith element is the mean of the\n",
    "       ith elements of the input vectors\"\"\"\n",
    "    n = len(vectors)\n",
    "    return vector_multiply(1/n, vector_sum(vectors))"
   ]
  },
  {
   "cell_type": "markdown",
   "metadata": {},
   "source": [
    "The **_dot product_** is the sum of their componentwise products. It tells us the length of the vector you'd get if you project one vector onto another."
   ]
  },
  {
   "cell_type": "code",
   "execution_count": 9,
   "metadata": {
    "collapsed": true
   },
   "outputs": [],
   "source": [
    "def dot(v, w):\n",
    "    return sum(v_i * w_i for v_i, w_i in zip(v, w))"
   ]
  },
  {
   "cell_type": "markdown",
   "metadata": {},
   "source": [
    "The **_sum of squares_** builds off of the _dot product_ to calculate a vector's **magnitude**."
   ]
  },
  {
   "cell_type": "code",
   "execution_count": 8,
   "metadata": {
    "collapsed": true
   },
   "outputs": [],
   "source": [
    "import math\n",
    "\n",
    "\n",
    "def sum_of_squares(vector):\n",
    "    \"\"\"v_1 * v_1 + ... + v_n * v_n \"\"\"\n",
    "    return dot(vector, vector)\n",
    "\n",
    "def magnitude(vector):\n",
    "    return math.sqrt(sum_of_squares(v))"
   ]
  },
  {
   "cell_type": "markdown",
   "metadata": {},
   "source": [
    "All of this allows us to compute the _distance between two vectors_, or **_squared distance_**:"
   ]
  },
  {
   "cell_type": "code",
   "execution_count": 6,
   "metadata": {
    "collapsed": true
   },
   "outputs": [],
   "source": [
    "def squared_distance(v, w):\n",
    "    \"\"\"(v_1-w_1) ** 2 + ... (v_n - w_n) ** 2\"\"\"\n",
    "    return sum_of_squares(vector_subtract(v, w))\n",
    "\n",
    "\n",
    "def distance(v, w):\n",
    "    return math.sqrt(squared_distance(v, w))"
   ]
  },
  {
   "cell_type": "markdown",
   "metadata": {},
   "source": [
    "This could also be written:"
   ]
  },
  {
   "cell_type": "code",
   "execution_count": 7,
   "metadata": {
    "collapsed": true
   },
   "outputs": [],
   "source": [
    "def distance(v, w):\n",
    "    return magnitude(vector_subtract(v, w))"
   ]
  },
  {
   "cell_type": "markdown",
   "metadata": {},
   "source": [
    "All this has apparently just been for illustration, though, as using lists for vectors gives horrible performance; the author says you want to use `numpy`'s `array` class instead."
   ]
  },
  {
   "cell_type": "markdown",
   "metadata": {},
   "source": [
    "### Matrices\n",
    "\n",
    "A _matrix_ is a two-dimensional collection of numbers. So it's like a list of lists.\n",
    "\n",
    "Matrices are represented by capital letters:"
   ]
  },
  {
   "cell_type": "code",
   "execution_count": 14,
   "metadata": {},
   "outputs": [
    {
     "name": "stdout",
     "output_type": "stream",
     "text": [
      "A[1][2]: 6\n",
      "B[2][0]: 5\n"
     ]
    }
   ],
   "source": [
    "A = [[1, 2, 3],\n",
    "     [4, 5, 6]]\n",
    "\n",
    "\n",
    "B = [[1, 2],\n",
    "     [3, 4],\n",
    "     [5, 6]]\n",
    "\n",
    "print('A[1][2]:', A[1][2])\n",
    "print('B[2][0]:', B[2][0])"
   ]
  },
  {
   "cell_type": "markdown",
   "metadata": {},
   "source": [
    "When we talk about the **shape** of a matrix, we describe the numnber of rows and columns:"
   ]
  },
  {
   "cell_type": "code",
   "execution_count": 16,
   "metadata": {},
   "outputs": [
    {
     "data": {
      "text/plain": [
       "(2, 3)"
      ]
     },
     "execution_count": 16,
     "metadata": {},
     "output_type": "execute_result"
    }
   ],
   "source": [
    "def shape(A):\n",
    "    num_rows = len(A)\n",
    "    num_cols = len(A[0]) if A else 0\n",
    "    return num_rows, num_cols\n",
    "\n",
    "shape(A)"
   ]
  },
  {
   "cell_type": "markdown",
   "metadata": {},
   "source": [
    "A matrix with `n` rows and `k` columns is an `n x k` matrix. This means each row has a vector of length `k` (`k` elements) and each column has a vector of length `n` (`n` elements).  \n",
    "`A` could be called a `2x3` matrix. Each row has a vector of length `3` and each column has a vector of length `2`."
   ]
  },
  {
   "cell_type": "code",
   "execution_count": 17,
   "metadata": {},
   "outputs": [
    {
     "name": "stdout",
     "output_type": "stream",
     "text": [
      "[1, 2, 3]\n",
      "[2, 4, 6]\n"
     ]
    }
   ],
   "source": [
    "def get_row(A, i):\n",
    "    return A[i]\n",
    "\n",
    "\n",
    "def get_column(A, j):\n",
    "    return [A_i[j] for A_i in A]  # return a list of j elements for each row in A_i\n",
    "\n",
    "print(get_row(A, 0))\n",
    "print(get_column(B, 1))"
   ]
  },
  {
   "cell_type": "markdown",
   "metadata": {},
   "source": [
    "A nested list comprehension can create a matrix of a given shape."
   ]
  },
  {
   "cell_type": "code",
   "execution_count": 19,
   "metadata": {},
   "outputs": [
    {
     "data": {
      "text/plain": [
       "[[1, 0, 0, 0, 0],\n",
       " [0, 1, 0, 0, 0],\n",
       " [0, 0, 1, 0, 0],\n",
       " [0, 0, 0, 1, 0],\n",
       " [0, 0, 0, 0, 1]]"
      ]
     },
     "execution_count": 19,
     "metadata": {},
     "output_type": "execute_result"
    }
   ],
   "source": [
    "def make_matrix(num_rows, num_cols, entry_fn):\n",
    "    return [[entry_fn(i, j) for j in range(num_cols)] for i in range(num_rows)]\n",
    "\n",
    "\n",
    "def is_diagonal(i, j):\n",
    "    return 1 if i == j else 0\n",
    "\n",
    "make_matrix(5, 5, is_diagonal)"
   ]
  },
  {
   "cell_type": "markdown",
   "metadata": {},
   "source": [
    "So, matrices can:\n",
    "1. represent a data set consisting of multiple vectors\n",
    "2. represent linear functions that map `k` dimensional vectors to `n` dimensions\n",
    "3. represent binary relationships like graphs.\n",
    "\n",
    "I think this is an extremely disappointing attempt at explaining linear algebra."
   ]
  }
 ],
 "metadata": {
  "kernelspec": {
   "display_name": "Python 3",
   "language": "python",
   "name": "python3"
  },
  "language_info": {
   "codemirror_mode": {
    "name": "ipython",
    "version": 3
   },
   "file_extension": ".py",
   "mimetype": "text/x-python",
   "name": "python",
   "nbconvert_exporter": "python",
   "pygments_lexer": "ipython3",
   "version": "3.6.1"
  }
 },
 "nbformat": 4,
 "nbformat_minor": 2
}
