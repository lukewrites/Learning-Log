{
 "cells": [
  {
   "cell_type": "markdown",
   "metadata": {},
   "source": [
    "# Data Science From Scratch\n",
    "## Chapter 1\n",
    "\n",
    "### First bit: Finding Key Connectors\n",
    "\n",
    "First, I'm not sure where the code for this book is. So, I'm going to try to be smart in copying from the book. Like in creating this list of users with id's:"
   ]
  },
  {
   "cell_type": "code",
   "execution_count": 12,
   "metadata": {},
   "outputs": [
    {
     "data": {
      "text/plain": [
       "[{'id': 0, 'name': 'Hero'},\n",
       " {'id': 1, 'name': 'Dunn'},\n",
       " {'id': 2, 'name': 'Sue'},\n",
       " {'id': 3, 'name': 'Chi'},\n",
       " {'id': 4, 'name': 'Thor'},\n",
       " {'id': 5, 'name': 'Clive'},\n",
       " {'id': 6, 'name': 'Hicks'},\n",
       " {'id': 7, 'name': 'Devin'},\n",
       " {'id': 8, 'name': 'Kate'},\n",
       " {'id': 9, 'name': 'Klein'}]"
      ]
     },
     "execution_count": 12,
     "metadata": {},
     "output_type": "execute_result"
    }
   ],
   "source": [
    "names = ['Hero', 'Dunn', 'Sue', 'Chi', 'Thor', 'Clive', 'Hicks', 'Devin', 'Kate', 'Klein']\n",
    "users = []\n",
    "\n",
    "for counter, user in enumerate(names):\n",
    "    users.append({'id': counter, 'name': user})\n",
    "    \n",
    "users"
   ]
  },
  {
   "cell_type": "markdown",
   "metadata": {},
   "source": [
    "That looks right\n",
    "\n"
   ]
  },
  {
   "cell_type": "code",
   "execution_count": 13,
   "metadata": {},
   "outputs": [
    {
     "data": {
      "text/plain": [
       "[{'friends': [], 'id': 0, 'name': 'Hero'},\n",
       " {'friends': [], 'id': 1, 'name': 'Dunn'},\n",
       " {'friends': [], 'id': 2, 'name': 'Sue'},\n",
       " {'friends': [], 'id': 3, 'name': 'Chi'},\n",
       " {'friends': [], 'id': 4, 'name': 'Thor'},\n",
       " {'friends': [], 'id': 5, 'name': 'Clive'},\n",
       " {'friends': [], 'id': 6, 'name': 'Hicks'},\n",
       " {'friends': [], 'id': 7, 'name': 'Devin'},\n",
       " {'friends': [], 'id': 8, 'name': 'Kate'},\n",
       " {'friends': [], 'id': 9, 'name': 'Klein'}]"
      ]
     },
     "execution_count": 13,
     "metadata": {},
     "output_type": "execute_result"
    }
   ],
   "source": [
    "friendships = [(0, 1), (0, 2), (1, 2), (1, 3), (2, 3), (3, 4), (4, 5), (5, 6), (5, 7), (6, 8), (7, 8), (8, 9)]\n",
    "\n",
    "for user in users:\n",
    "    user['friends'] = []\n",
    "    \n",
    "\n",
    "users"
   ]
  },
  {
   "cell_type": "code",
   "execution_count": 17,
   "metadata": {},
   "outputs": [],
   "source": [
    "for i, j in friendships:\n",
    "    users[i][\"friends\"].append(users[j])\n",
    "    users[j]['friends'].append(users[i])\n"
   ]
  },
  {
   "cell_type": "markdown",
   "metadata": {},
   "source": [
    "OK, but that seems like it's going to make the dictionary really damn big. It's appending too much info to each profile.\n",
    "\n",
    "e.g.:"
   ]
  },
  {
   "cell_type": "code",
   "execution_count": 18,
   "metadata": {
    "scrolled": true
   },
   "outputs": [
    {
     "name": "stdout",
     "output_type": "stream",
     "text": [
      "{'id': 0, 'name': 'Hero', 'friends': ['Dunn', 'Sue', {'id': 1, 'name': 'Dunn', 'friends': ['Hero', 'Sue', 'Chi', {...}, {'id': 2, 'name': 'Sue', 'friends': ['Hero', 'Dunn', 'Chi', {...}, {...}, {'id': 3, 'name': 'Chi', 'friends': ['Dunn', 'Sue', 'Thor', {...}, {...}, {'id': 4, 'name': 'Thor', 'friends': ['Chi', 'Clive', {...}, {'id': 5, 'name': 'Clive', 'friends': ['Thor', 'Hicks', 'Devin', {...}, {'id': 6, 'name': 'Hicks', 'friends': ['Clive', 'Kate', {...}, {'id': 8, 'name': 'Kate', 'friends': ['Hicks', 'Devin', 'Klein', {...}, {'id': 7, 'name': 'Devin', 'friends': ['Clive', 'Kate', {...}, {...}]}, {'id': 9, 'name': 'Klein', 'friends': ['Kate', {...}]}]}]}, {'id': 7, 'name': 'Devin', 'friends': ['Clive', 'Kate', {...}, {'id': 8, 'name': 'Kate', 'friends': ['Hicks', 'Devin', 'Klein', {'id': 6, 'name': 'Hicks', 'friends': ['Clive', 'Kate', {...}, {...}]}, {...}, {'id': 9, 'name': 'Klein', 'friends': ['Kate', {...}]}]}]}]}]}]}]}, {'id': 3, 'name': 'Chi', 'friends': ['Dunn', 'Sue', 'Thor', {...}, {'id': 2, 'name': 'Sue', 'friends': ['Hero', 'Dunn', 'Chi', {...}, {...}, {...}]}, {'id': 4, 'name': 'Thor', 'friends': ['Chi', 'Clive', {...}, {'id': 5, 'name': 'Clive', 'friends': ['Thor', 'Hicks', 'Devin', {...}, {'id': 6, 'name': 'Hicks', 'friends': ['Clive', 'Kate', {...}, {'id': 8, 'name': 'Kate', 'friends': ['Hicks', 'Devin', 'Klein', {...}, {'id': 7, 'name': 'Devin', 'friends': ['Clive', 'Kate', {...}, {...}]}, {'id': 9, 'name': 'Klein', 'friends': ['Kate', {...}]}]}]}, {'id': 7, 'name': 'Devin', 'friends': ['Clive', 'Kate', {...}, {'id': 8, 'name': 'Kate', 'friends': ['Hicks', 'Devin', 'Klein', {'id': 6, 'name': 'Hicks', 'friends': ['Clive', 'Kate', {...}, {...}]}, {...}, {'id': 9, 'name': 'Klein', 'friends': ['Kate', {...}]}]}]}]}]}]}]}, {'id': 2, 'name': 'Sue', 'friends': ['Hero', 'Dunn', 'Chi', {...}, {'id': 1, 'name': 'Dunn', 'friends': ['Hero', 'Sue', 'Chi', {...}, {...}, {'id': 3, 'name': 'Chi', 'friends': ['Dunn', 'Sue', 'Thor', {...}, {...}, {'id': 4, 'name': 'Thor', 'friends': ['Chi', 'Clive', {...}, {'id': 5, 'name': 'Clive', 'friends': ['Thor', 'Hicks', 'Devin', {...}, {'id': 6, 'name': 'Hicks', 'friends': ['Clive', 'Kate', {...}, {'id': 8, 'name': 'Kate', 'friends': ['Hicks', 'Devin', 'Klein', {...}, {'id': 7, 'name': 'Devin', 'friends': ['Clive', 'Kate', {...}, {...}]}, {'id': 9, 'name': 'Klein', 'friends': ['Kate', {...}]}]}]}, {'id': 7, 'name': 'Devin', 'friends': ['Clive', 'Kate', {...}, {'id': 8, 'name': 'Kate', 'friends': ['Hicks', 'Devin', 'Klein', {'id': 6, 'name': 'Hicks', 'friends': ['Clive', 'Kate', {...}, {...}]}, {...}, {'id': 9, 'name': 'Klein', 'friends': ['Kate', {...}]}]}]}]}]}]}]}, {'id': 3, 'name': 'Chi', 'friends': ['Dunn', 'Sue', 'Thor', {'id': 1, 'name': 'Dunn', 'friends': ['Hero', 'Sue', 'Chi', {...}, {...}, {...}]}, {...}, {'id': 4, 'name': 'Thor', 'friends': ['Chi', 'Clive', {...}, {'id': 5, 'name': 'Clive', 'friends': ['Thor', 'Hicks', 'Devin', {...}, {'id': 6, 'name': 'Hicks', 'friends': ['Clive', 'Kate', {...}, {'id': 8, 'name': 'Kate', 'friends': ['Hicks', 'Devin', 'Klein', {...}, {'id': 7, 'name': 'Devin', 'friends': ['Clive', 'Kate', {...}, {...}]}, {'id': 9, 'name': 'Klein', 'friends': ['Kate', {...}]}]}]}, {'id': 7, 'name': 'Devin', 'friends': ['Clive', 'Kate', {...}, {'id': 8, 'name': 'Kate', 'friends': ['Hicks', 'Devin', 'Klein', {'id': 6, 'name': 'Hicks', 'friends': ['Clive', 'Kate', {...}, {...}]}, {...}, {'id': 9, 'name': 'Klein', 'friends': ['Kate', {...}]}]}]}]}]}]}]}]}\n"
     ]
    }
   ],
   "source": [
    "print(users[0])"
   ]
  },
  {
   "cell_type": "markdown",
   "metadata": {},
   "source": [
    "I think the author meant to do this:"
   ]
  },
  {
   "cell_type": "code",
   "execution_count": 20,
   "metadata": {},
   "outputs": [
    {
     "data": {
      "text/plain": [
       "{'friends': ['Dunn', 'Sue'], 'id': 0, 'name': 'Hero'}"
      ]
     },
     "execution_count": 20,
     "metadata": {},
     "output_type": "execute_result"
    }
   ],
   "source": [
    "names = ['Hero', 'Dunn', 'Sue', 'Chi', 'Thor', 'Clive', 'Hicks', 'Devin', 'Kate', 'Klein']\n",
    "users = []\n",
    "\n",
    "for counter, user in enumerate(names):\n",
    "    users.append({'id': counter, 'name': user})\n",
    "    \n",
    "friendships = [(0, 1), (0, 2), (1, 2), (1, 3), (2, 3), (3, 4), (4, 5), (5, 6), (5, 7), (6, 8), (7, 8), (8, 9)]\n",
    "\n",
    "for user in users:\n",
    "    user['friends'] = []\n",
    "\n",
    "for i, j in friendships:\n",
    "    users[i][\"friends\"].append(users[j]['name'])\n",
    "    users[j]['friends'].append(users[i]['name'])\n",
    "\n",
    "users[0]"
   ]
  },
  {
   "cell_type": "code",
   "execution_count": 21,
   "metadata": {},
   "outputs": [
    {
     "data": {
      "text/plain": [
       "2.4"
      ]
     },
     "execution_count": 21,
     "metadata": {},
     "output_type": "execute_result"
    }
   ],
   "source": [
    "def number_of_friends(user):\n",
    "    return len(user['friends'])\n",
    "\n",
    "total_connections = sum(number_of_friends(user) for user in users)\n",
    "\n",
    "total_connections\n",
    "\n",
    "num_users = len(users)\n",
    "\n",
    "avg_connections = total_connections / num_users\n",
    "\n",
    "avg_connections"
   ]
  }
 ],
 "metadata": {
  "kernelspec": {
   "display_name": "Python 3",
   "language": "python",
   "name": "python3"
  },
  "language_info": {
   "codemirror_mode": {
    "name": "ipython",
    "version": 3
   },
   "file_extension": ".py",
   "mimetype": "text/x-python",
   "name": "python",
   "nbconvert_exporter": "python",
   "pygments_lexer": "ipython3",
   "version": "3.6.1"
  }
 },
 "nbformat": 4,
 "nbformat_minor": 2
}
