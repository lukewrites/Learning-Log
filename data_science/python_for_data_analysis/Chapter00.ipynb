{
 "cells": [
  {
   "cell_type": "markdown",
   "metadata": {},
   "source": [
    "# Welcome\n",
    "\n",
    "These are my notes on _Python for Machine Learning_. You can follow along with me through the chapters, or see how I remixed what was presented in each chapter.\n",
    "\n",
    "| Chapter | Remix |\n",
    "| --- | --- |\n",
    "| [Chapter 2 – Introductory Examples](/edit/notebooks/Chapter02.ipynb) | None |"
   ]
  }
 ],
 "metadata": {
  "kernelspec": {
   "display_name": "Python 3",
   "language": "python",
   "name": "python3"
  },
  "language_info": {
   "codemirror_mode": {
    "name": "ipython",
    "version": 3
   },
   "file_extension": ".py",
   "mimetype": "text/x-python",
   "name": "python",
   "nbconvert_exporter": "python",
   "pygments_lexer": "ipython3",
   "version": "3.6.1"
  }
 },
 "nbformat": 4,
 "nbformat_minor": 2
}
